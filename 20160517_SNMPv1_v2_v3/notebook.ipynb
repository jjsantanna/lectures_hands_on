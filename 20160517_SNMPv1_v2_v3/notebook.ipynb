{
 "cells": [
  {
   "cell_type": "markdown",
   "metadata": {},
   "source": [
    "# Lecture: SNMP V1, V2, and specially V3 (17/05/2016)"
   ]
  },
  {
   "cell_type": "markdown",
   "metadata": {},
   "source": [
    "This is iPython Notebook writen in bash for a interactive lecture to students from the University of Twente. The course was Internet Management and the lecture was entitled \"SNMP V1, V2, and specially V3\" [17/may/2016]. For more information access https://learnintsec.org/courses/course-v1:UT+1926531A+2015Q4/info or send me an email (j.j.santanna@utwente.nl). \n",
    "\n",
    "** DISCLAIMER: all these scripts works only from inside the 130.89.0.0/16 **\n",
    "\n",
    "In addition to this notebook we also added the snmp agent config file (snmpd.conf) and the pcap file (lecture_snmp.pcap) that we measure different versions of the snmp protocol."
   ]
  },
  {
   "cell_type": "markdown",
   "metadata": {},
   "source": [
    "### Declaring Hosts\n",
    "In a previous assignment students were requested to install an agent SNMP in one of their devices. The configuration MUST include SNMP versions 1 and 2, on the port 2161 and community name \"IMM\". While the configuration of SNMPv3 MUST include the usage of authentication and privacy protocol.  Bellow are the hosts and the passwords of each student (that posted their information in https://learnintsec.org/courses/course-v1:UT+1926531A+2015Q4/wiki/UT.1926531A.2015Q4/student-snmp-agent-details/ on time)."
   ]
  },
  {
   "cell_type": "code",
   "execution_count": 35,
   "metadata": {
    "collapsed": false
   },
   "outputs": [
    {
     "name": "stdout",
     "output_type": "stream",
     "text": []
    }
   ],
   "source": [
    "jjkester=geoip.jjkester.nl\n",
    "corellian=corellian.student.utwente.nl\n",
    "dinas=utwente.dinas.nl\n",
    "bratto=snmp.bratto.net\n",
    "bratto2=81.207.85.129\n",
    "lownfun=imm.lownfun.com\n",
    "A=77.161.142.169\n",
    "B=94.213.70.45\n",
    "C=145.136.76.9\n",
    "D=77.166.86.83\n",
    "E=130.89.235.2\n",
    "F=192.168.1.10\n",
    "G=82.74.219.112\n",
    "H=77.175.238.14\n",
    "I=195.240.176.102\n",
    "J=82.75.180.42"
   ]
  },
  {
   "cell_type": "markdown",
   "metadata": {},
   "source": [
    "Additionaly, I included my own host to make sure that we can have (at least one) functional example =D"
   ]
  },
  {
   "cell_type": "code",
   "execution_count": 36,
   "metadata": {
    "collapsed": false
   },
   "outputs": [
    {
     "name": "stdout",
     "output_type": "stream",
     "text": []
    }
   ],
   "source": [
    "jjsantanna=ddosdb.org"
   ]
  },
  {
   "cell_type": "markdown",
   "metadata": {},
   "source": [
    "### Testing Reachability\n",
    "Before start testing to access the SNMP agents it is IMPORTANT to make sure that the hosts are reachable. Considering the following example:"
   ]
  },
  {
   "cell_type": "code",
   "execution_count": 37,
   "metadata": {
    "collapsed": false
   },
   "outputs": [
    {
     "name": "stdout",
     "output_type": "stream",
     "text": [
      "64 bytes from 130.89.14.205: icmp_seq=0 ttl=63 time=37.432 ms\r\n"
     ]
    }
   ],
   "source": [
    "ping -c 1 -t 1 $jjsantanna |grep ttl"
   ]
  },
  {
   "cell_type": "markdown",
   "metadata": {},
   "source": [
    "# Part I: SNMPv1 and SNMPv2\n",
    "The students were randomly choose to query their own hosts on-the-spot. The others students were either judging or helping others to succeed in the task. "
   ]
  },
  {
   "cell_type": "code",
   "execution_count": 4,
   "metadata": {
    "collapsed": false
   },
   "outputs": [
    {
     "name": "stdout",
     "output_type": "stream",
     "text": [
      "SNMPv2-MIB::sysDescr.0 = STRING: Linux furiosa 4.2.0-36-generic #41-Ubuntu SMP Mon Apr 18 15:49:10 UTC 2016 x86_64\r\n"
     ]
    }
   ],
   "source": [
    "snmpwalk -v 2c -c HUMAN $jjsantanna .1.3.6.1.2.1.1.1.0\n",
    "#This was my example! Note that the community and the port number is different from the asked to students."
   ]
  },
  {
   "cell_type": "code",
   "execution_count": 5,
   "metadata": {
    "collapsed": false
   },
   "outputs": [
    {
     "name": "stdout",
     "output_type": "stream",
     "text": [
      "Timeout: No Response from 77.175.238.14\r\n"
     ]
    }
   ],
   "source": [
    "snmpwalk -v 2c -c public $H .1.3.6.1.2.1.1.1.0 \n",
    "#PROBLEM: The student didn't put the correct community (IMM) and the correct port (2161). \n",
    "#These mistake possibly happened because the student copy and paste my example =D\n",
    "#Besides of that, the host was unreachable using the default port (161) (as we can see in the output bellow). "
   ]
  },
  {
   "cell_type": "code",
   "execution_count": 6,
   "metadata": {
    "collapsed": false
   },
   "outputs": [
    {
     "name": "stdout",
     "output_type": "stream",
     "text": [
      "SNMPv2-MIB::sysDescr.0 = STRING: Linux imm 4.1.19-v7+ #858 SMP Tue Mar 15 15:56:00 GMT 2016 armv7l\r\n"
     ]
    }
   ],
   "source": [
    "#With help from other students, the previous example was corrected\n",
    "snmpwalk -v 2c -c IMM $H:2161 .1.3.6.1.2.1.1.1.0"
   ]
  },
  {
   "cell_type": "code",
   "execution_count": 7,
   "metadata": {
    "collapsed": false
   },
   "outputs": [
    {
     "name": "stdout",
     "output_type": "stream",
     "text": [
      "SNMPv2-MIB::sysObjectID.0 = OID: NET-SNMP-MIB::netSnmpAgentOIDs.10\r\n"
     ]
    }
   ],
   "source": [
    "snmpget -v 2c -c IMM $A:2161 .1.3.6.1.2.1.1.2.0"
   ]
  },
  {
   "cell_type": "code",
   "execution_count": 8,
   "metadata": {
    "collapsed": false
   },
   "outputs": [
    {
     "name": "stdout",
     "output_type": "stream",
     "text": [
      "SNMPv2-MIB::sysDescr.0 = STRING: Linux raspberrypi 4.1.19-v7+ #858 SMP Tue Mar 15 15:56:00 GMT 2016 armv7l\r\n"
     ]
    }
   ],
   "source": [
    "snmpwalk -v 1 -c IMM $I:2161 .1.3.6.1.2.1.1.1.0"
   ]
  },
  {
   "cell_type": "code",
   "execution_count": 9,
   "metadata": {
    "collapsed": false
   },
   "outputs": [
    {
     "name": "stdout",
     "output_type": "stream",
     "text": [
      "DISMAN-EVENT-MIB::sysUpTimeInstance = Timeticks: (80207917) 9 days, 6:47:59.17\r\n"
     ]
    }
   ],
   "source": [
    "snmpget -v 1 -c IMM $lownfun:2161 1.3.6.1.2.1.1.3.0"
   ]
  },
  {
   "cell_type": "markdown",
   "metadata": {
    "collapsed": true
   },
   "source": [
    "### It is horrible to remember Object Identifiers (OID). How can you memorize it?\n",
    "At this point I discuss with the students that is easier to remember names than remember numbers. I invited then to take a look on the following links that shows the the most used MIBs:\n",
    "- http://www.simpleweb.org/ietf/mibs/modules/html/?category=IETF&module=SNMPv2-MIB\n",
    "- http://www.simpleweb.org/ietf/mibs/modules/html/?category=IETF&module=HOST-RESOURCES-MIB\n",
    "- http://www.simpleweb.org/ietf/mibs/modules/html/?category=IETF&module=IF-MIB\n",
    "- http://www.simpleweb.org/ietf/mibs/modules/html/?category=IETF&module=IP-MIB"
   ]
  },
  {
   "cell_type": "code",
   "execution_count": 10,
   "metadata": {
    "collapsed": false
   },
   "outputs": [
    {
     "name": "stdout",
     "output_type": "stream",
     "text": [
      "SNMPv2-MIB::sysName.0 = STRING: imm\r\n"
     ]
    }
   ],
   "source": [
    "snmpget -v 2c -c IMM $H:2161 .1.3.6.1.2.1.1.sysName.0\n",
    "# In this case the student changed only one number for the name. It worked and he was happy!"
   ]
  },
  {
   "cell_type": "code",
   "execution_count": 11,
   "metadata": {
    "collapsed": false
   },
   "outputs": [
    {
     "name": "stdout",
     "output_type": "stream",
     "text": [
      "SNMPv2-MIB::sysName.0 = STRING: Furiosa\r\n"
     ]
    }
   ],
   "source": [
    "snmpwalk -v 2c -c HUMAN $jjsantanna .iso.org.dod.internet.mgmt.mib-2.system.sysName\n",
    "# In this example I showed that ALL the numbers can be changed for names"
   ]
  },
  {
   "cell_type": "markdown",
   "metadata": {},
   "source": [
    "### Let's make it easier?!\n",
    "At this moment I showed that we can make everything easier by typing the name of the MIB and the name of the object (separated by two colons)."
   ]
  },
  {
   "cell_type": "code",
   "execution_count": 12,
   "metadata": {
    "collapsed": false
   },
   "outputs": [
    {
     "name": "stdout",
     "output_type": "stream",
     "text": [
      "SNMPv2-MIB::sysName.0 = STRING: Furiosa\r\n"
     ]
    }
   ],
   "source": [
    "snmpget -v 2c -c HUMAN $jjsantanna SNMPv2-MIB::sysName.0"
   ]
  },
  {
   "cell_type": "code",
   "execution_count": 13,
   "metadata": {
    "collapsed": false
   },
   "outputs": [
    {
     "name": "stdout",
     "output_type": "stream",
     "text": [
      "SNMPv2-MIB::sysContact.0 = STRING: Jair Santanna <j.j.santanna@utwente.nl>\r\n"
     ]
    }
   ],
   "source": [
    "snmpget -v 2c -c HUMAN $jjsantanna SNMPv2-MIB::sysContact.0"
   ]
  },
  {
   "cell_type": "code",
   "execution_count": 14,
   "metadata": {
    "collapsed": false
   },
   "outputs": [
    {
     "name": "stdout",
     "output_type": "stream",
     "text": [
      "UCD-SNMP-MIB::prNames = No Such Instance currently exists at this OID\r\n"
     ]
    }
   ],
   "source": [
    "snmpwalk -v 2c -c SUPERSAYAJIN5 $jjsantanna UCD-SNMP-MIB::prNames"
   ]
  },
  {
   "cell_type": "code",
   "execution_count": 15,
   "metadata": {
    "collapsed": false
   },
   "outputs": [
    {
     "name": "stdout",
     "output_type": "stream",
     "text": [
      "SNMPv2-MIB::sysLocation.0 = STRING: The Netherlands\r\n"
     ]
    }
   ],
   "source": [
    "snmpwalk -v 2c -c HUMAN $jjsantanna SNMPv2-MIB::sysLocation"
   ]
  },
  {
   "cell_type": "markdown",
   "metadata": {},
   "source": [
    "By the way... I showed that we can request parts of the MIB using the same type of OID call. The students were very happy about!"
   ]
  },
  {
   "cell_type": "code",
   "execution_count": 16,
   "metadata": {
    "collapsed": false
   },
   "outputs": [
    {
     "name": "stdout",
     "output_type": "stream",
     "text": [
      "SNMPv2-MIB::sysDescr.0 = STRING: Linux furiosa 4.2.0-36-generic #41-Ubuntu SMP Mon Apr 18 15:49:10 UTC 2016 x86_64\r\n",
      "SNMPv2-MIB::sysObjectID.0 = OID: NET-SNMP-MIB::netSnmpAgentOIDs.10\r\n",
      "DISMAN-EVENT-MIB::sysUpTimeInstance = Timeticks: (19103) 0:03:11.03\r\n",
      "SNMPv2-MIB::sysContact.0 = STRING: Jair Santanna <j.j.santanna@utwente.nl>\r\n",
      "SNMPv2-MIB::sysName.0 = STRING: Furiosa\r\n",
      "SNMPv2-MIB::sysLocation.0 = STRING: The Netherlands\r\n",
      "SNMPv2-MIB::sysORLastChange.0 = Timeticks: (1) 0:00:00.01\r\n",
      "SNMPv2-MIB::sysORID.1 = OID: SNMP-MPD-MIB::snmpMPDCompliance\r\n",
      "SNMPv2-MIB::sysORID.2 = OID: SNMP-USER-BASED-SM-MIB::usmMIBCompliance\r\n",
      "SNMPv2-MIB::sysORID.3 = OID: SNMP-FRAMEWORK-MIB::snmpFrameworkMIBCompliance\r\n",
      "SNMPv2-MIB::sysORID.4 = OID: SNMPv2-MIB::snmpMIB\r\n",
      "SNMPv2-MIB::sysORID.5 = OID: SNMP-VIEW-BASED-ACM-MIB::vacmBasicGroup\r\n",
      "SNMPv2-MIB::sysORID.6 = OID: TCP-MIB::tcpMIB\r\n",
      "SNMPv2-MIB::sysORID.7 = OID: IP-MIB::ip\r\n",
      "SNMPv2-MIB::sysORID.8 = OID: UDP-MIB::udpMIB\r\n",
      "SNMPv2-MIB::sysORID.9 = OID: SNMP-NOTIFICATION-MIB::snmpNotifyFullCompliance\r\n",
      "SNMPv2-MIB::sysORID.10 = OID: NOTIFICATION-LOG-MIB::notificationLogMIB\r\n",
      "SNMPv2-MIB::sysORDescr.1 = STRING: The MIB for Message Processing and Dispatching.\r\n",
      "SNMPv2-MIB::sysORDescr.2 = STRING: The management information definitions for the SNMP User-based Security Model.\r\n",
      "SNMPv2-MIB::sysORDescr.3 = STRING: The SNMP Management Architecture MIB.\r\n",
      "SNMPv2-MIB::sysORDescr.4 = STRING: The MIB module for SNMPv2 entities\r\n",
      "SNMPv2-MIB::sysORDescr.5 = STRING: View-based Access Control Model for SNMP.\r\n",
      "SNMPv2-MIB::sysORDescr.6 = STRING: The MIB module for managing TCP implementations\r\n",
      "SNMPv2-MIB::sysORDescr.7 = STRING: The MIB module for managing IP and ICMP implementations\r\n",
      "SNMPv2-MIB::sysORDescr.8 = STRING: The MIB module for managing UDP implementations\r\n",
      "SNMPv2-MIB::sysORDescr.9 = STRING: The MIB modules for managing SNMP Notification, plus filtering.\r\n",
      "SNMPv2-MIB::sysORDescr.10 = STRING: The MIB module for logging SNMP Notifications.\r\n",
      "SNMPv2-MIB::sysORUpTime.1 = Timeticks: (1) 0:00:00.01\r\n",
      "SNMPv2-MIB::sysORUpTime.2 = Timeticks: (1) 0:00:00.01\r\n",
      "SNMPv2-MIB::sysORUpTime.3 = Timeticks: (1) 0:00:00.01\r\n",
      "SNMPv2-MIB::sysORUpTime.4 = Timeticks: (1) 0:00:00.01\r\n",
      "SNMPv2-MIB::sysORUpTime.5 = Timeticks: (1) 0:00:00.01\r\n",
      "SNMPv2-MIB::sysORUpTime.6 = Timeticks: (1) 0:00:00.01\r\n",
      "SNMPv2-MIB::sysORUpTime.7 = Timeticks: (1) 0:00:00.01\r\n",
      "SNMPv2-MIB::sysORUpTime.8 = Timeticks: (1) 0:00:00.01\r\n",
      "SNMPv2-MIB::sysORUpTime.9 = Timeticks: (1) 0:00:00.01\r\n",
      "SNMPv2-MIB::sysORUpTime.10 = Timeticks: (1) 0:00:00.01\r\n",
      "SNMPv2-MIB::sysORUpTime.10 = No more variables left in this MIB View (It is past the end of the MIB tree)\r\n"
     ]
    }
   ],
   "source": [
    "snmpwalk -v 2c -c HUMAN $jjsantanna SNMPv2-MIB::system"
   ]
  },
  {
   "cell_type": "markdown",
   "metadata": {},
   "source": [
    "### SNMPSet, a dangerous SNMP PDU!\n",
    "We had a discussion about the snmpset and how dangerous it can be (for the objects that have the MaxAccess = \"read-write\"). The main question was which object can crash an entire system if the values are changed? I gave a simple non-harmfull examples (bellow)."
   ]
  },
  {
   "cell_type": "code",
   "execution_count": 21,
   "metadata": {
    "collapsed": false
   },
   "outputs": [
    {
     "name": "stdout",
     "output_type": "stream",
     "text": [
      "Error in packet.\r\n",
      "Reason: notWritable (That object does not support modification)\r\n",
      "Failed object: SNMPv2-MIB::sysDescr.0\r\n",
      "\r\n",
      "SNMPv2-MIB::sysName.0 = STRING: Furiosa\r\n",
      "SNMPv2-MIB::sysLocation.0 = STRING: The Netherlands\r\n"
     ]
    }
   ],
   "source": [
    "snmpset -v 2c -c SUPERSAYAJIN $jjsantanna SNMPv2-MIB::sysDescr.0 s \"Goku's Machine\" #MaxAccess: read-only\n",
    "snmpset -v 2c -c SUPERSAYAJIN $jjsantanna SNMPv2-MIB::sysName.0 s \"Furiosa\" #MaxAccess: read-write\n",
    "snmpset -v 2c -c SUPERSAYAJIN $jjsantanna SNMPv2-MIB::sysLocation.0 s \"The Netherlands\" #MaxAccess: read-write\n",
    "\n",
    "#It was expected that the \"sysDescr\" will have a different behaviour as \"sysName\" and sysLocation. \n",
    "# The former is read-only object while the latter two objects are read-write."
   ]
  },
  {
   "cell_type": "code",
   "execution_count": 19,
   "metadata": {
    "collapsed": false
   },
   "outputs": [
    {
     "name": "stdout",
     "output_type": "stream",
     "text": [
      "SNMPv2-MIB::sysName.0 = STRING: Furiosa\r\n",
      "SNMPv2-MIB::sysLocation.0 = STRING: The Netherlands\r\n"
     ]
    }
   ],
   "source": [
    "#Checking if the sysName and sysLocation changed de facto.\n",
    "snmpget -v 2c -c HUMAN $jjsantanna SNMPv2-MIB::sysName.0\n",
    "snmpget -v 2c -c HUMAN $jjsantanna SNMPv2-MIB::sysLocation.0"
   ]
  },
  {
   "cell_type": "markdown",
   "metadata": {},
   "source": [
    "### Config file (snmpd.conf) changing the permission\n",
    "It is very important to notice that if a value was set in snmpd.conf "
   ]
  },
  {
   "cell_type": "code",
   "execution_count": 22,
   "metadata": {
    "collapsed": false
   },
   "outputs": [
    {
     "name": "stdout",
     "output_type": "stream",
     "text": [
      "Error in packet.\r\n",
      "Reason: notWritable (That object does not support modification)\r\n",
      "Failed object: SNMPv2-MIB::sysContact.0\r\n",
      "\r\n"
     ]
    }
   ],
   "source": [
    "snmpset -v 2c -c SUPERSAYAJIN $jjsantanna SNMPv2-MIB::sysContact.0 s \"Goku <goku@dragonball.com>\" #MaxAccess: read-write"
   ]
  },
  {
   "cell_type": "markdown",
   "metadata": {},
   "source": [
    "### Community without rights"
   ]
  },
  {
   "cell_type": "code",
   "execution_count": 23,
   "metadata": {
    "collapsed": false
   },
   "outputs": [
    {
     "name": "stdout",
     "output_type": "stream",
     "text": [
      "Error in packet.\r\n",
      "Reason: noAccess\r\n",
      "Failed object: SNMPv2-MIB::sysName.0\r\n",
      "\r\n"
     ]
    }
   ],
   "source": [
    "snmpset -v 2c -c IMM $H:2161 SNMPv2-MIB::sysName.0 s \"blabla\" \n",
    "# PROBLEM: the community IMM has no rights to write."
   ]
  },
  {
   "cell_type": "markdown",
   "metadata": {},
   "source": [
    "# Part II: SNMPv3 and different levels of Security"
   ]
  },
  {
   "cell_type": "markdown",
   "metadata": {},
   "source": [
    "### A. Demonstring NoauthNoPriv, authNoPriv and authPriv"
   ]
  },
  {
   "cell_type": "code",
   "execution_count": 24,
   "metadata": {
    "collapsed": false
   },
   "outputs": [
    {
     "name": "stdout",
     "output_type": "stream",
     "text": [
      "SNMPv2-MIB::sysContact.0 = STRING: Jair Santanna <j.j.santanna@utwente.nl>\r\n"
     ]
    }
   ],
   "source": [
    "snmpwalk -v 3 \\\n",
    "-u mrsatan \\\n",
    "-l NoauthNoPriv \\\n",
    "$jjsantanna \\\n",
    "SNMPv2-MIB::sysContact"
   ]
  },
  {
   "cell_type": "code",
   "execution_count": 25,
   "metadata": {
    "collapsed": false
   },
   "outputs": [
    {
     "name": "stdout",
     "output_type": "stream",
     "text": [
      "SNMPv2-MIB::sysContact.0 = STRING: Jair Santanna <j.j.santanna@utwente.nl>\r\n"
     ]
    }
   ],
   "source": [
    "snmpwalk -v 3 \\\n",
    "-u gohan2 \\\n",
    "-l authNoPriv \\\n",
    "-a MD5 -A zvnq37qR46RGZ \\\n",
    "$jjsantanna \\\n",
    "SNMPv2-MIB::sysContact"
   ]
  },
  {
   "cell_type": "code",
   "execution_count": 26,
   "metadata": {
    "collapsed": false
   },
   "outputs": [
    {
     "name": "stdout",
     "output_type": "stream",
     "text": [
      "SNMPv2-MIB::sysContact.0 = STRING: Jair Santanna <j.j.santanna@utwente.nl>\r\n"
     ]
    }
   ],
   "source": [
    "snmpwalk -v 3 \\\n",
    "-u goku2 \\\n",
    "-l authPriv \\\n",
    "-a SHA -A hPmOdiAelZp2N \\\n",
    "-x AES -X VuXjKVJH6FvF6 \\\n",
    "$jjsantanna \\\n",
    "SNMPv2-MIB::sysContact"
   ]
  },
  {
   "cell_type": "markdown",
   "metadata": {},
   "source": [
    "### B. Checking which students configured correctly the agent SNMPv3\n",
    "I checked all the students that added in https://learnintsec.org/courses/course-v1:UT+1926531A+2015Q4/wiki/UT.1926531A.2015Q4/student-snmp-agent-details/ their host information."
   ]
  },
  {
   "cell_type": "code",
   "execution_count": 27,
   "metadata": {
    "collapsed": false
   },
   "outputs": [
    {
     "name": "stdout",
     "output_type": "stream",
     "text": [
      "SNMPv2-MIB::sysContact.0 = STRING: Jan-Jelle Kester <j.j.kester@student.utwente.nl>\r\n"
     ]
    }
   ],
   "source": [
    "snmpwalk -v 3 \\\n",
    "-u student \\\n",
    "-l authPriv \\\n",
    "-a SHA -A v3rys3cr3t \\\n",
    "-x AES -X v3rys3cr3t \\\n",
    "$jjkester:2161 \\\n",
    "SNMPv2-MIB::sysContact"
   ]
  },
  {
   "cell_type": "code",
   "execution_count": 28,
   "metadata": {
    "collapsed": false
   },
   "outputs": [
    {
     "name": "stdout",
     "output_type": "stream",
     "text": [
      "SNMPv2-MIB::sysContact.0 = STRING: Me <me@example.org>\r\n"
     ]
    }
   ],
   "source": [
    "snmpget -v 3 \\\n",
    "-u IMM \\\n",
    "-l authPriv \\\n",
    "-a SHA -A 62VuuqQDlidhb2MgmirF3M7xpbvbYFHB \\\n",
    "-x AES -X 5avlk2OzfB3AKZQh9o6zVhquqpS3OgNG \\\n",
    "$I:2161 SNMPv2-MIB::sysContact.0"
   ]
  },
  {
   "cell_type": "code",
   "execution_count": 29,
   "metadata": {
    "collapsed": false
   },
   "outputs": [
    {
     "name": "stdout",
     "output_type": "stream",
     "text": [
      "SNMPv2-MIB::sysContact.0 = STRING: Olivier van der Toorn <oliviervdtoorn@gmail.com>\r\n"
     ]
    }
   ],
   "source": [
    "#A bit more organised with \"\\\" that allows to write in the following line\n",
    "snmpget -v 3 \\\n",
    "-u intsec \\\n",
    "-l authPriv \\\n",
    "-a SHA -A FgB0aQk4PUMubqtmDDQSD62qDGH33wZkjAaLhpW1NBsi9q7cFxgRGKtT0DnntbXtFfAuMhoTh4IrpbswdNLOaToa3TNzSSFjrL5H \\\n",
    "-x AES -X FgB0aQk4PUMubqtmDDQSD62qDGH33wZkjAaLhpW1NBsi9q7cFxgRGKtT0DnntbXtFfAuMhoTh4IrpbswdNLOaToa3TNzSSFjrL5H \\\n",
    "$corellian:2161 \\\n",
    "SNMPv2-MIB::sysContact.0"
   ]
  },
  {
   "cell_type": "code",
   "execution_count": 30,
   "metadata": {
    "collapsed": false
   },
   "outputs": [
    {
     "name": "stdout",
     "output_type": "stream",
     "text": [
      "SNMPv2-MIB::sysContact.0 = STRING: Arvid van den Brink <a.b.vandenbrink@student.utwente.nl>\r\n"
     ]
    }
   ],
   "source": [
    "snmpget -v 3 \\\n",
    "-u secint \\\n",
    "-l authPriv \\\n",
    "-a SHA -A kQVM6PhD7bObFu9TnnueqJIbFoxZawlqqH0oN0RVgDcEZdJWJC2jSyeID6aXO9emXG0QpWuQDPRuYViVrod3IODe6EqcynYUo3VG \\\n",
    "-x AES -X kQVM6PhD7bObFu9TnnueqJIbFoxZawlqqH0oN0RVgDcEZdJWJC2jSyeID6aXO9emXG0QpWuQDPRuYViVrod3IODe6EqcynYUo3VG \\\n",
    "$dinas:2161 \\\n",
    "SNMPv2-MIB::sysContact.0"
   ]
  },
  {
   "cell_type": "code",
   "execution_count": 31,
   "metadata": {
    "collapsed": false
   },
   "outputs": [
    {
     "name": "stdout",
     "output_type": "stream",
     "text": [
      "SNMPv2-MIB::sysContact.0 = STRING: Me <r.siebel@student.utwente.nl>\r\n"
     ]
    }
   ],
   "source": [
    "snmpget -v 3 \\\n",
    "-u IMM \\\n",
    "-l authPriv \\\n",
    "-u IMM \\\n",
    "-a SHA -A A1C3Z9X7E5 \\\n",
    "-x AES -X 3F28XR5AG1 \\\n",
    "$A:2161 \\\n",
    "SNMPv2-MIB::sysContact.0"
   ]
  },
  {
   "cell_type": "code",
   "execution_count": 32,
   "metadata": {
    "collapsed": false
   },
   "outputs": [
    {
     "name": "stdout",
     "output_type": "stream",
     "text": [
      "SNMPv2-MIB::sysContact.0 = STRING: t.j.pool@student.utwente.nl\r\n"
     ]
    }
   ],
   "source": [
    "snmpget -v 3 \\\n",
    "-u IMM \\\n",
    "-l authPriv \\\n",
    "-a SHA -A 33ae5b14a39214ad3aac9c93b6bda5f4 \\\n",
    "-x AES -X cd12fbe3855656a6906672dad5a6c6d3 \\\n",
    "$bratto2:2161 \\\n",
    "SNMPv2-MIB::sysContact.0"
   ]
  },
  {
   "cell_type": "code",
   "execution_count": 33,
   "metadata": {
    "collapsed": false
   },
   "outputs": [
    {
     "name": "stdout",
     "output_type": "stream",
     "text": [
      "SNMPv2-MIB::sysContact.0 = STRING: a.p.aalbertsberg@student.utwente.nl\r\n"
     ]
    }
   ],
   "source": [
    "snmpget -v 3 \\\n",
    "-u immv3 \\\n",
    "-l authPriv \\\n",
    "-a SHA -A fsU6RGCx1GrQB0rNCDpjGqPeFzuYE8JEK3L7CDsbspv52BFmp1RVJuFMjhfgpEJqwXDNwgNKcgUEh2NbqQFcoanPevzobfuoVfae \\\n",
    "-x AES -X fsU6RGCx1GrQB0rNCDpjGqPeFzuYE8JEK3L7CDsbspv52BFmp1RVJuFMjhfgpEJqwXDNwgNKcgUEh2NbqQFcoanPevzobfuoVfae \\\n",
    "$B:2161 \\\n",
    "SNMPv2-MIB::sysContact.0"
   ]
  },
  {
   "cell_type": "code",
   "execution_count": 34,
   "metadata": {
    "collapsed": false
   },
   "outputs": [
    {
     "name": "stdout",
     "output_type": "stream",
     "text": [
      "No log handling enabled - using stderr logging\r\n",
      "snmpget: Authentication failure (incorrect password, community or key)\r\n"
     ]
    }
   ],
   "source": [
    "snmpget -v 3 \\\n",
    "-u user2 \\\n",
    "-l authPriv \\\n",
    "-a SHA -A ARD31gHJAR \\\n",
    "-x AES -X ARD31gHJAR \\\n",
    "$G:2161 \\\n",
    "SNMPv2-MIB::sysContact.0"
   ]
  },
  {
   "cell_type": "markdown",
   "metadata": {},
   "source": [
    "# Part III: Comparing SNMP versions 1, 2 and 3 (using TCPDUMP)"
   ]
  },
  {
   "cell_type": "markdown",
   "metadata": {},
   "source": [
    "#### First we start measuring the packets using tcpdum"
   ]
  },
  {
   "cell_type": "code",
   "execution_count": 61,
   "metadata": {
    "collapsed": false
   },
   "outputs": [
    {
     "name": "stdout",
     "output_type": "stream",
     "text": [
      "tcpdump: ioctl(SIOCIFCREATE): Operation not permitted\r\n"
     ]
    }
   ],
   "source": [
    "tcpdump -w lecture_snmp.pcap\n",
    "# We run this line in the background"
   ]
  },
  {
   "cell_type": "markdown",
   "metadata": {},
   "source": [
    "#### Then, we did 5 types of snmpget using different snmp versions, with and without authentication and privacy protocols"
   ]
  },
  {
   "cell_type": "code",
   "execution_count": 44,
   "metadata": {
    "collapsed": false
   },
   "outputs": [
    {
     "name": "stdout",
     "output_type": "stream",
     "text": [
      "SNMPv2-MIB::sysContact.0 = STRING: Jair Santanna <j.j.santanna@utwente.nl>\r\n",
      "SNMPv2-MIB::sysContact.0 = STRING: Jair Santanna <j.j.santanna@utwente.nl>\r\n",
      "SNMPv2-MIB::sysContact.0 = STRING: Jair Santanna <j.j.santanna@utwente.nl>\r\n",
      "SNMPv2-MIB::sysContact.0 = STRING: Jair Santanna <j.j.santanna@utwente.nl>\r\n",
      "SNMPv2-MIB::sysContact.0 = STRING: Jair Santanna <j.j.santanna@utwente.nl>\r\n"
     ]
    }
   ],
   "source": [
    "snmpget -v 1 -c HUMAN $jjsantanna SNMPv2-MIB::sysContact.0\n",
    "snmpget -v 2c -c HUMAN $jjsantanna SNMPv2-MIB::sysContact.0\n",
    "snmpget -v 3 -u mrsatan -l NoauthNoPriv $jjsantanna SNMPv2-MIB::sysContact.0\n",
    "snmpget -v 3 -u gohan2 -l authNoPriv -a MD5 -A zvnq37qR46RGZ $jjsantanna SNMPv2-MIB::sysContact.0\n",
    "snmpget -v 3 -u goku2 -l authPriv -a SHA -A hPmOdiAelZp2N -x AES -X VuXjKVJH6FvF6 $jjsantanna SNMPv2-MIB::sysContact.0"
   ]
  },
  {
   "cell_type": "markdown",
   "metadata": {},
   "source": [
    "#### NOW, we analyse the request of each (request) packet"
   ]
  },
  {
   "cell_type": "code",
   "execution_count": 53,
   "metadata": {
    "collapsed": false
   },
   "outputs": [
    {
     "name": "stdout",
     "output_type": "stream",
     "text": [
      "reading from PCAP-NG file lecture_snmpv3.pcap\r\n",
      "1463608904.134180 IP 130.89.108.3.59888 > 130.89.14.205.161:  C=HUMAN GetRequest(28)  .1.3.6.1.2.1.1.4.0\r\n"
     ]
    }
   ],
   "source": [
    "# This packet shows the snmpget v1. We can notice the community \"HUMAN\" and the PDU \"GetRequest\" \n",
    "# \".1.3.6.1.2.1.1.4.0\". Remember that this is enough to access the device.  \n",
    "tcpdump -r lecture_snmp.pcap -nttX dst port 161 |grep 1463608904.134180"
   ]
  },
  {
   "cell_type": "code",
   "execution_count": 54,
   "metadata": {
    "collapsed": false
   },
   "outputs": [
    {
     "name": "stdout",
     "output_type": "stream",
     "text": [
      "reading from PCAP-NG file lecture_snmpv3.pcap\r\n",
      "1463608904.432229 IP 130.89.108.3.65113 > 130.89.14.205.161:  C=HUMAN GetRequest(28)  .1.3.6.1.2.1.1.4.0\r\n"
     ]
    }
   ],
   "source": [
    "# This packet shows the snmpget v2c. We can notice the community \"HUMAN\" and the PDU \"GetRequest\" \n",
    "# \".1.3.6.1.2.1.1.4.0\". Remember that, as in the snmpv1, this is enough to access the device.  \n",
    "tcpdump -r lecture_snmp.pcap -nttX dst port 161 |grep 1463608904.432229"
   ]
  },
  {
   "cell_type": "code",
   "execution_count": 55,
   "metadata": {
    "collapsed": false
   },
   "outputs": [
    {
     "name": "stdout",
     "output_type": "stream",
     "text": [
      "reading from PCAP-NG file lecture_snmpv3.pcap\r\n",
      "1463608904.732595 IP 130.89.108.3.63916 > 130.89.14.205.161:  F=r U=mrsatan E= 0x800x000x1F0x880x800x280xD40xCF0x2F0x8F0xD20x3A0x570x000x000x000x00 C= GetRequest(28)  .1.3.6.1.2.1.1.4.0\r\n"
     ]
    }
   ],
   "source": [
    "# This packet shows the snmpget v3 without authentication and without privacy (NoauthNoPriv). \n",
    "# We can notice the user \"mrsatan\" and the PDU \"GetRequest\" \".1.3.6.1.2.1.1.4.0\". \n",
    "# Till this point there is not much difference between v1, v2 and v3.\n",
    "# Therefore, this information is still enough to access the device.  \n",
    "tcpdump -r lecture_snmp.pcap -nttX dst port 161 |grep 1463608904.732595"
   ]
  },
  {
   "cell_type": "code",
   "execution_count": 57,
   "metadata": {
    "collapsed": false
   },
   "outputs": [
    {
     "name": "stdout",
     "output_type": "stream",
     "text": [
      "reading from PCAP-NG file lecture_snmpv3.pcap\r\n",
      "1463608905.124678 IP 130.89.108.3.65322 > 130.89.14.205.161:  F=ar U=gohan2 E= 0x800x000x1F0x880x800x280xD40xCF0x2F0x8F0xD20x3A0x570x000x000x000x00 C= GetRequest(28)  .1.3.6.1.2.1.1.4.0\r\n"
     ]
    }
   ],
   "source": [
    "# This packet shows the snmpget v3 with authentication and without privacy (authNoPriv). \n",
    "# We can notice the user \"gohan2\" and the PDU \"GetRequest\" \".1.3.6.1.2.1.1.4.0\". \n",
    "# NOW the snmpv3 shows the first difference by adding a password for the user.\n",
    "tcpdump -r lecture_snmp.pcap -nttX dst port 161 |grep 1463608905.124678"
   ]
  },
  {
   "cell_type": "code",
   "execution_count": 1,
   "metadata": {
    "collapsed": false
   },
   "outputs": [
    {
     "name": "stdout",
     "output_type": "stream",
     "text": [
      "reading from PCAP-NG file lecture_snmp.pcap\r\n",
      "1463608905.849183 IP 130.89.108.3.65240 > 130.89.14.205.161:  F=apr U=goku2 [!scoped PDU]c2_2a_b6_e2_8f_49_7c_0a_f7_ed_23_80_84_41_dc_44_93_6c_fa_4b_5f_5d_ca_04_0d_18_c5_42_ee_20_2e_88_f5_50_72_fc_81_d0_05_72_61_4e_8b_15_a3_c8_60_00_16_6a_1a_9c_4b\r\n"
     ]
    }
   ],
   "source": [
    "# FINALLY, this packet shows the snmpget v3 with authentication and privacy (authPriv). \n",
    "# We can notice the user \"goku2\" (which needs a password to access the host) \n",
    "# In addition the PDU is encrypted. #tumbsupsnmpv3 =D\n",
    "tcpdump -r lecture_snmp.pcap -nttX dst port 161 |grep 1463608905.849183"
   ]
  },
  {
   "cell_type": "markdown",
   "metadata": {},
   "source": [
    "# Part IV: Security\n",
    "### Spoofing, DDoS Attacks, and Large Scale Port Scan (Shodan.io)"
   ]
  },
  {
   "cell_type": "markdown",
   "metadata": {},
   "source": [
    "This python script bellow generates a snmpget pretending to be the IP \"127.0.0.1\", this is called IP spoofing. As consequence the response of 130.89.14.205 will go to the IP \"127.0.0.1\" instead of the (attack) machine that request (the spoofed request). \n",
    "\n",
    "** Disclaimer: the destination IP (130.89.14.205) doesn't accept snmp request from outside 130.89.0.0/16. Therefore, if you are outside it will not work."
   ]
  },
  {
   "cell_type": "code",
   "execution_count": null,
   "metadata": {
    "collapsed": true
   },
   "outputs": [],
   "source": [
    "sudo python\n",
    "\n",
    "from scapy.all import sr1,IP,UDP,SNMP,SNMPget,SNMPvarbind,ASN1_OID\n",
    "\n",
    "p = IP(src=\"127.0.0.1\",dst=\"130.89.14.205\")/UDP(dport=161)/SNMP(community=\"HUMAN\",PDU=SNMPget(varbindlist=[SNMPvarbind(oid=ASN1_OID(\".1.3.6.1.2.1.1.4.0\"))]))\n",
    "\n",
    "sr1(p)"
   ]
  },
  {
   "cell_type": "markdown",
   "metadata": {},
   "source": [
    "An attack usually uses this type of spoofed requests to either reflect the attack against a third party target misusing hundreds of thousands of hosts which have snmpv1 and v2 installed. By the way, it is known that the majority of hosts running snmp v1 and v2 uses the default community \"public\".\n",
    "\n",
    "To make everything easier to attackers that want to abuse hosts running snmp, hundreds of thousands are showed in https://www.shodan.io/search?query=snmp. This initiative performs a large scale port scanning in the entire Internet. Therefore anyone can find many other services to be abused."
   ]
  },
  {
   "cell_type": "markdown",
   "metadata": {},
   "source": [
    "## Could you please judge my presentation in http://bit.ly/judge_jairs_presentation\n",
    "\n",
    "\n",
    "# I hope you like. Thanks for your attention!\n",
    "\n",
    "\n",
    "\n",
    "# Jair Santanna \n",
    "<j.j.santanna@utwente.nl>\n",
    "\n",
    "[http://jairsantanna.com]"
   ]
  }
 ],
 "metadata": {
  "kernelspec": {
   "display_name": "Bash",
   "language": "bash",
   "name": "bash"
  },
  "language_info": {
   "codemirror_mode": "shell",
   "file_extension": ".sh",
   "mimetype": "text/x-sh",
   "name": "bash"
  }
 },
 "nbformat": 4,
 "nbformat_minor": 0
}
